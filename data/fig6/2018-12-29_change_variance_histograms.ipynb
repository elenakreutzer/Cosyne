{
 "cells": [
  {
   "cell_type": "code",
   "execution_count": 87,
   "metadata": {
    "collapsed": true
   },
   "outputs": [],
   "source": [
    "import numpy as np\n",
    "import matplotlib as mpl\n",
    "import matplotlib.pyplot as plt\n",
    "import pairing_poisson_change_variance_histo as pair\n",
    "reload(pair)\n",
    "%matplotlib inline"
   ]
  },
  {
   "cell_type": "code",
   "execution_count": 88,
   "metadata": {},
   "outputs": [
    {
     "name": "stdout",
     "output_type": "stream",
     "text": [
      "38.4615384615\n"
     ]
    }
   ],
   "source": [
    "#number of stimulated neurons\n",
    "\n",
    "N=1\n",
    "#time constants\n",
    "taul=0.01\n",
    "taus=0.003\n",
    "fac=(1./((taul-taus)))\n",
    "inteps=fac*(taul-taus)\n",
    "intepsquad=(fac**2)*(taul/2-(2/(1/taul+1/taus))+taus/2)\n",
    "print(intepsquad)\n",
    "dt=0.0005\n",
    "\n",
    "\n",
    "\n",
    "# different input rates\n",
    "low_rate=5.\n",
    "high_rate=10.\n",
    "\n",
    "#rate of post synaptic stimulation\n",
    "post_rate=20.\n",
    "\n",
    "#intitial weight (excitatory)\n",
    "initial_weight=.05\n",
    "\n",
    "#samplenumber\n",
    "samplenumber=10000\n",
    "\n",
    "#learning rate\n",
    "lr=0.005"
   ]
  },
  {
   "cell_type": "code",
   "execution_count": null,
   "metadata": {
    "collapsed": true
   },
   "outputs": [],
   "source": []
  },
  {
   "cell_type": "code",
   "execution_count": 89,
   "metadata": {},
   "outputs": [],
   "source": [
    "parameter={\n",
    "    \"N\":N,\n",
    "    \"taul\":taul,\n",
    "    \"taus\":taus,\n",
    "    \"dt\":dt,\n",
    "    \"intepsquad\":intepsquad,\n",
    "    \"inteps\":inteps,\n",
    "    \"rate\":low_rate,\n",
    "    \"lr\":lr,\n",
    "    \"rho\":pair.sigmoidal,\n",
    "    \"rhoprime\":pair.sigmoidalp,\n",
    "    \"threshold\":10., #rest=-70, #center=-60 saturation around -50\n",
    "    \"slope\":0.3,\n",
    "    \"maxfire\":100.,\n",
    "    \"post_rate\":post_rate,\n",
    "    \"g1\":pair.g1,\n",
    "    \"g2\":pair.g2,\n",
    "    \"f\":pair.fsigmoid,\n",
    "    \"init\":pair.init,\n",
    "    \"interval_length\":5.5,\n",
    "    \"percentage\":1, #0 for absolute weight change plot, 1 for relative\n",
    "    \"label\":(\"low variance\",\"low rate\",\"low tau\")\n",
    "    }"
   ]
  },
  {
   "cell_type": "markdown",
   "metadata": {},
   "source": [
    "Pairing protocol for Nstim synapses excitatory pre/post pairing at different rates and different weights."
   ]
  },
  {
   "cell_type": "code",
   "execution_count": 90,
   "metadata": {
    "collapsed": true
   },
   "outputs": [],
   "source": [
    "parameter[\"rate\"]=high_rate\n",
    "taul=0.015\n",
    "taus=0.003\n",
    "fac=(1./(parameter[\"rate\"]*(taul-taus)))\n",
    "inteps=fac*(taul-taus)\n",
    "intepsquad=(fac**2)*(taul/2-(2/(1/taul+1/taus))+taus/2)\n",
    "parameter[\"taul\"]=taul\n",
    "parameter[\"taus\"]=taus\n",
    "parameter[\"inteps\"]=inteps\n",
    "parameter[\"intepsquad\"]=intepsquad\n"
   ]
  },
  {
   "cell_type": "code",
   "execution_count": 91,
   "metadata": {
    "scrolled": true
   },
   "outputs": [
    {
     "name": "stdout",
     "output_type": "stream",
     "text": [
      "1.01749166072\n"
     ]
    }
   ],
   "source": [
    "xeps=np.zeros(samplenumber)\n",
    "for i in range(samplenumber):\n",
    "    xeps[i]=pair.init(**parameter)[\"pre\"][0,-1]\n",
    "print(np.mean(xeps))\n",
    "np.save(\"histogram_hr_ht\",xeps)\n"
   ]
  },
  {
   "cell_type": "code",
   "execution_count": 92,
   "metadata": {},
   "outputs": [
    {
     "data": {
      "image/png": "[encoded data removed]",
      "text/plain": [
       "<matplotlib.figure.Figure at 0x9fecbe0>"
      ]
     },
     "metadata": {},
     "output_type": "display_data"
    }
   ],
   "source": [
    "reload(pair)\n",
    "pair.plot_psp_histogram(xeps,normed=True,**parameter)    "
   ]
  },
  {
   "cell_type": "code",
   "execution_count": 93,
   "metadata": {
    "collapsed": true
   },
   "outputs": [],
   "source": [
    "parameter[\"rate\"]=low_rate\n",
    "taul=0.015\n",
    "taus=0.003\n",
    "fac=(1./(parameter[\"rate\"]*(taul-taus)))\n",
    "inteps=fac*(taul-taus)\n",
    "intepsquad=(fac**2)*(taul/2-(2/(1/taul+1/taus))+taus/2)\n",
    "parameter[\"taul\"]=taul\n",
    "parameter[\"taus\"]=taus\n",
    "parameter[\"inteps\"]=inteps\n",
    "parameter[\"intepsquad\"]=intepsquad"
   ]
  },
  {
   "cell_type": "code",
   "execution_count": 94,
   "metadata": {},
   "outputs": [
    {
     "name": "stdout",
     "output_type": "stream",
     "text": [
      "1.01133043959\n"
     ]
    },
    {
     "data": {
      "image/png": "[encoded data removed]",
      "text/plain": [
       "<matplotlib.figure.Figure at 0x9fec9e8>"
      ]
     },
     "metadata": {},
     "output_type": "display_data"
    }
   ],
   "source": [
    "xeps=np.zeros(samplenumber)\n",
    "for i in range(samplenumber):\n",
    "    xeps[i]=pair.init(**parameter)[\"pre\"][0,-1]\n",
    "print(np.mean(xeps))\n",
    "np.save(\"histogram_lr_ht\",xeps)\n",
    "pair.plot_psp_histogram(xeps,normed=True,**parameter)    "
   ]
  },
  {
   "cell_type": "code",
   "execution_count": 95,
   "metadata": {
    "collapsed": true
   },
   "outputs": [],
   "source": [
    "parameter[\"rate\"]=high_rate\n",
    "taul=0.005\n",
    "taus=0.003\n",
    "fac=(1./(parameter[\"rate\"]*(taul-taus)))\n",
    "inteps=fac*(taul-taus)\n",
    "intepsquad=(fac**2)*(taul/2-(2/(1/taul+1/taus))+taus/2)\n",
    "parameter[\"taul\"]=taul\n",
    "parameter[\"taus\"]=taus\n",
    "parameter[\"inteps\"]=inteps\n",
    "parameter[\"intepsquad\"]=intepsquad"
   ]
  },
  {
   "cell_type": "code",
   "execution_count": 96,
   "metadata": {},
   "outputs": [
    {
     "name": "stdout",
     "output_type": "stream",
     "text": [
      "1.00611518096\n"
     ]
    },
    {
     "data": {
      "image/png": "[encoded data removed]",
      "text/plain": [
       "<matplotlib.figure.Figure at 0x9d3cb38>"
      ]
     },
     "metadata": {},
     "output_type": "display_data"
    }
   ],
   "source": [
    "xeps=np.zeros(samplenumber)\n",
    "for i in range(samplenumber):\n",
    "    xeps[i]=pair.init(**parameter)[\"pre\"][0,-1]\n",
    "print(np.mean(xeps))\n",
    "np.save(\"histogram_hr_lt\",xeps)\n",
    "pair.plot_psp_histogram(xeps,normed=True,**parameter)    "
   ]
  },
  {
   "cell_type": "code",
   "execution_count": null,
   "metadata": {
    "collapsed": true
   },
   "outputs": [],
   "source": []
  },
  {
   "cell_type": "code",
   "execution_count": null,
   "metadata": {
    "collapsed": true
   },
   "outputs": [],
   "source": []
  }
 ],
 "metadata": {
  "kernelspec": {
   "display_name": "Python [default]",
   "language": "python",
   "name": "python2"
  },
  "language_info": {
   "codemirror_mode": {
    "name": "ipython",
    "version": 2
   },
   "file_extension": ".py",
   "mimetype": "text/x-python",
   "name": "python",
   "nbconvert_exporter": "python",
   "pygments_lexer": "ipython2",
   "version": "2.7.13"
  }
 },
 "nbformat": 4,
 "nbformat_minor": 1
}
