{
 "cells": [
  {
   "cell_type": "code",
   "execution_count": 22,
   "metadata": {},
   "outputs": [],
   "source": [
    "import numpy as np\n",
    "import matplotlib as mpl\n",
    "import matplotlib.pyplot as plt\n",
    "#import functions as fct\n",
    "import pairing_poisson_tc as pair\n",
    "#reload(fct)\n",
    "reload(pair)\n",
    "%matplotlib inline"
   ]
  },
  {
   "cell_type": "code",
   "execution_count": null,
   "metadata": {
    "collapsed": true
   },
   "outputs": [],
   "source": []
  },
  {
   "cell_type": "code",
   "execution_count": 23,
   "metadata": {},
   "outputs": [
    {
     "name": "stdout",
     "output_type": "stream",
     "text": [
      "38.4615384615\n"
     ]
    }
   ],
   "source": [
    "#time constants\n",
    "taul=0.01\n",
    "taus=0.003\n",
    "fac=(1./((taul-taus)))\n",
    "inteps=fac*(taul-taus)\n",
    "intepsquad=(fac**2)*(taul/2-(2/(1/taul+1/taus))+taus/2)\n",
    "print(intepsquad)\n",
    "dt=0.0005\n",
    "\n",
    "#timesteps for one stimulation interval\n",
    "timesteps=5000\n",
    "\n",
    "# different input rates\n",
    "low_rate=5.\n",
    "medium_rate=10.\n",
    "high_rate=20.\n",
    "\n",
    "#rate of post synaptic stimulation\n",
    "post_rate=20.\n",
    "\n",
    "#different weights (all excitatory)\n",
    "low_weight=0.01\n",
    "medium_weight=0.04\n",
    "high_weight=0.12\n",
    "\n",
    "\n",
    "#learning rate\n",
    "lr=0.05"
   ]
  },
  {
   "cell_type": "code",
   "execution_count": 24,
   "metadata": {
    "collapsed": true
   },
   "outputs": [],
   "source": [
    "parameter={\n",
    "    \"taul\":taul,\n",
    "    \"taus\":taus,\n",
    "    \"dt\":dt,\n",
    "    \"kernel\":pair.eps,\n",
    "    \"intepsquad\":intepsquad,\n",
    "    \"inteps\":inteps,\n",
    "    \"timesteps\":timesteps,\n",
    "    \"rate\":low_rate,\n",
    "    \"lr\":lr,\n",
    "    \"rho\":pair.sigmoidal,\n",
    "    \"rhoprime\":pair.sigmoidalp,\n",
    "    \"threshold\":15.,\n",
    "    \"slope\":0.2,\n",
    "    \"maxfire\":100.,\n",
    "    \"post_rate\":post_rate,\n",
    "    \"g1\":pair.g1,\n",
    "    \"g2\":pair.g2,\n",
    "    \"f\":pair.fsigmoid,\n",
    "    \"init\":pair.init,\n",
    "    \"pre_learning_time\":1.,\n",
    "    \"learning_time\":5.,\n",
    "    \"interval_length\":.1,\n",
    "    \"total_time\":6.1,\n",
    "    \"alpha\":1.,\n",
    "    \"learning_rule\":pair.ngradient,\n",
    "    \"percentage\":1, #0 for absolute weight change plot, 1 for relative\n",
    "    \"label\":(\"small EPSP variance\",\"medium EPSP variance\",\"high EPSP variance\"),\n",
    "    \"ylimits\":[98.3,101.7],\n",
    "    \"ofile\":\"2018_06-07_pairing_different_taus_Poisson.svg\",\n",
    "    \"pspfile\":\"2018-08-09_psp_histogram_low_var.svg\"\n",
    "    }"
   ]
  },
  {
   "cell_type": "code",
   "execution_count": 25,
   "metadata": {},
   "outputs": [
    {
     "name": "stdout",
     "output_type": "stream",
     "text": [
      "6.91384203433\n",
      "85.81489351\n",
      "6.91384203433\n",
      "85.81489351\n"
     ]
    }
   ],
   "source": [
    "print(parameter[\"maxfire\"]*pair.sigmoidal(low_weight*low_rate,**parameter))\n",
    "print(parameter[\"maxfire\"]*pair.sigmoidal(high_weight*low_rate,**parameter))\n",
    "print(parameter[\"maxfire\"]*pair.sigmoidal(low_weight*high_rate,**parameter))\n",
    "print(parameter[\"maxfire\"]*pair.sigmoidal(high_weight*high_rate,**parameter))"
   ]
  },
  {
   "cell_type": "markdown",
   "metadata": {},
   "source": [
    "Pairing protocol for one synapse excitatory pre/post pairing at different rates and different weights."
   ]
  },
  {
   "cell_type": "code",
   "execution_count": 26,
   "metadata": {
    "collapsed": true
   },
   "outputs": [],
   "source": [
    "parameter[\"rate\"]=medium_rate\n",
    "weight=medium_weight"
   ]
  },
  {
   "cell_type": "code",
   "execution_count": 27,
   "metadata": {},
   "outputs": [
    {
     "name": "stdout",
     "output_type": "stream",
     "text": [
      "21.7391304348\n"
     ]
    }
   ],
   "source": [
    "taul=0.02\n",
    "taus=0.003\n",
    "fac=(1./((taul-taus)))\n",
    "inteps=fac*(taul-taus)\n",
    "intepsquad=(fac**2)*(taul/2-(2/(1/taul+1/taus))+taus/2)\n",
    "print(intepsquad)\n",
    "parameter[\"taul\"]=taul\n",
    "parameter[\"taus\"]=taus\n",
    "parameter[\"inteps\"]=inteps\n",
    "parameter[\"intepsquad\"]=intepsquad"
   ]
  },
  {
   "cell_type": "code",
   "execution_count": 28,
   "metadata": {},
   "outputs": [
    {
     "name": "stdout",
     "output_type": "stream",
     "text": [
      "199.19228744\n"
     ]
    },
    {
     "data": {
      "text/plain": [
       "<matplotlib.figure.Figure at 0xc0abfd0>"
      ]
     },
     "metadata": {},
     "output_type": "display_data"
    },
    {
     "data": {
      "image/png": "[encoded data removed]",
      "text/plain": [
       "<matplotlib.figure.Figure at 0x8115240>"
      ]
     },
     "metadata": {},
     "output_type": "display_data"
    }
   ],
   "source": [
    "xeps=np.zeros(20000)\n",
    "for i in range(20000):\n",
    "    xeps[i]=pair.init(**parameter)[\"pre\"][-1]\n",
    "print(np.mean(xeps))\n",
    "pair.plot_psp_histogram(xeps,**parameter)    "
   ]
  },
  {
   "cell_type": "code",
   "execution_count": 29,
   "metadata": {
    "collapsed": true,
    "scrolled": true
   },
   "outputs": [],
   "source": [
    "learn_simu=pair.nlearning(weight,**parameter)\n",
    "lweights=learn_simu[\"weight\"]\n",
    "spikes=learn_simu[\"spikes\"]"
   ]
  },
  {
   "cell_type": "code",
   "execution_count": 30,
   "metadata": {
    "collapsed": true
   },
   "outputs": [],
   "source": [
    "#pair.plotspikes(spikes,**parameter)"
   ]
  },
  {
   "cell_type": "code",
   "execution_count": 31,
   "metadata": {},
   "outputs": [
    {
     "name": "stdout",
     "output_type": "stream",
     "text": [
      "38.4615384615\n"
     ]
    }
   ],
   "source": [
    "taul=0.01\n",
    "taus=0.003\n",
    "fac=(1./((taul-taus)))\n",
    "inteps=fac*(taul-taus)\n",
    "intepsquad=(fac**2)*(taul/2-(2/(1/taul+1/taus))+taus/2)\n",
    "print(intepsquad)\n",
    "parameter[\"taul\"]=taul\n",
    "parameter[\"taus\"]=taus\n",
    "parameter[\"inteps\"]=inteps\n",
    "parameter[\"intepsquad\"]=intepsquad\n",
    "parameter[\"pspfile\"]=\"2018-08-09_psp_histogram_medium_var.svg\""
   ]
  },
  {
   "cell_type": "code",
   "execution_count": 32,
   "metadata": {},
   "outputs": [
    {
     "name": "stdout",
     "output_type": "stream",
     "text": [
      "199.179681447\n"
     ]
    },
    {
     "data": {
      "text/plain": [
       "<matplotlib.figure.Figure at 0x11b81978>"
      ]
     },
     "metadata": {},
     "output_type": "display_data"
    },
    {
     "data": {
      "image/png": "[encoded data removed]",
      "text/plain": [
       "<matplotlib.figure.Figure at 0x833e9b0>"
      ]
     },
     "metadata": {},
     "output_type": "display_data"
    }
   ],
   "source": [
    "xeps=np.zeros(20000)\n",
    "for i in range(20000):\n",
    "    xeps[i]=pair.init(**parameter)[\"pre\"][-1]\n",
    "print(np.mean(xeps))\n",
    "pair.plot_psp_histogram(xeps,**parameter)    "
   ]
  },
  {
   "cell_type": "code",
   "execution_count": 33,
   "metadata": {
    "collapsed": true
   },
   "outputs": [],
   "source": [
    "mweights=pair.nlearning(weight,**parameter)[\"weight\"]"
   ]
  },
  {
   "cell_type": "code",
   "execution_count": 34,
   "metadata": {},
   "outputs": [
    {
     "name": "stdout",
     "output_type": "stream",
     "text": [
      "62.5\n"
     ]
    }
   ],
   "source": [
    "taul=0.005\n",
    "taus=0.003\n",
    "fac=(1./((taul-taus)))\n",
    "inteps=fac*(taul-taus)\n",
    "intepsquad=(fac**2)*(taul/2-(2/(1/taul+1/taus))+taus/2)\n",
    "print(intepsquad)\n",
    "parameter[\"taul\"]=taul\n",
    "parameter[\"taus\"]=taus\n",
    "parameter[\"inteps\"]=inteps\n",
    "parameter[\"intepsquad\"]=intepsquad\n",
    "parameter[\"pspfile\"]=\"2018-08-09_psp_histogram_high_var.svg\""
   ]
  },
  {
   "cell_type": "code",
   "execution_count": 35,
   "metadata": {},
   "outputs": [
    {
     "name": "stdout",
     "output_type": "stream",
     "text": [
      "198.574850109\n"
     ]
    },
    {
     "data": {
      "text/plain": [
       "<matplotlib.figure.Figure at 0x12d2b9b0>"
      ]
     },
     "metadata": {},
     "output_type": "display_data"
    },
    {
     "data": {
      "image/png": "[encoded data removed]",
      "text/plain": [
       "<matplotlib.figure.Figure at 0xa515048>"
      ]
     },
     "metadata": {},
     "output_type": "display_data"
    }
   ],
   "source": [
    "xeps=np.zeros(20000)\n",
    "for i in range(20000):\n",
    "    xeps[i]=pair.init(**parameter)[\"pre\"][-1]\n",
    "print(np.mean(xeps))\n",
    "pair.plot_psp_histogram(xeps,**parameter)   \n"
   ]
  },
  {
   "cell_type": "code",
   "execution_count": 36,
   "metadata": {
    "collapsed": true
   },
   "outputs": [],
   "source": [
    "hweights=pair.nlearning(weight,**parameter)[\"weight\"]\n"
   ]
  },
  {
   "cell_type": "code",
   "execution_count": 37,
   "metadata": {
    "collapsed": true
   },
   "outputs": [],
   "source": [
    "weights=np.array((lweights,mweights,hweights))\n",
    "rates=np.array((medium_rate,medium_rate,medium_rate))"
   ]
  },
  {
   "cell_type": "code",
   "execution_count": 38,
   "metadata": {},
   "outputs": [
    {
     "data": {
      "image/png": "[encoded data removed]",
      "text/plain": [
       "<matplotlib.figure.Figure at 0x1380f780>"
      ]
     },
     "metadata": {},
     "output_type": "display_data"
    }
   ],
   "source": [
    "pair.plotLTP(weights,rates,**parameter)"
   ]
  },
  {
   "cell_type": "code",
   "execution_count": 39,
   "metadata": {},
   "outputs": [
    {
     "name": "stdout",
     "output_type": "stream",
     "text": [
      "62.5\n",
      "47.619047619\n",
      "32.2580645161\n",
      "21.7391304348\n",
      "15.1515151515\n",
      "10.989010989\n",
      "8.26446280992\n"
     ]
    }
   ],
   "source": [
    "taus=0.003\n",
    "taul=0.005\n",
    "parameter[\"taus\"]=taus\n",
    "var=np.zeros(7)\n",
    "deltaw=np.zeros(7)\n",
    "for i in range(7):\n",
    "    taul=taul+i*0.0025\n",
    "    fac=(1./((taul-taus)))\n",
    "    inteps=fac*(taul-taus)\n",
    "    intepsquad=(fac**2)*(taul/2-(2/(1/taul+1/taus))+taus/2)\n",
    "    print(intepsquad)\n",
    "    parameter[\"taul\"]=taul\n",
    "    parameter[\"inteps\"]=inteps\n",
    "    parameter[\"intepsquad\"]=intepsquad\n",
    "    var[i]=intepsquad*medium_rate\n",
    "    w=pair.nlearning(weight,**parameter)[\"weight\"]\n",
    "    deltaw[i]=w[-1]/w[0]\n",
    "      "
   ]
  },
  {
   "cell_type": "code",
   "execution_count": 40,
   "metadata": {},
   "outputs": [
    {
     "data": {
      "image/png": "[encoded data removed]",
      "text/plain": [
       "<matplotlib.figure.Figure at 0x12b8b0b8>"
      ]
     },
     "metadata": {},
     "output_type": "display_data"
    }
   ],
   "source": [
    "parameter[\"ofile\"]=\"2018-08-06_poisson_tc_var_deltaw.svg\"\n",
    "pair.plot_var_deltaw(var,deltaw-np.ones(7),**parameter)"
   ]
  },
  {
   "cell_type": "code",
   "execution_count": 41,
   "metadata": {
    "collapsed": true
   },
   "outputs": [],
   "source": [
    "parameter[\"alpha\"]=0.7"
   ]
  },
  {
   "cell_type": "code",
   "execution_count": null,
   "metadata": {
    "collapsed": true
   },
   "outputs": [],
   "source": []
  },
  {
   "cell_type": "code",
   "execution_count": null,
   "metadata": {
    "collapsed": true
   },
   "outputs": [],
   "source": []
  }
 ],
 "metadata": {
  "kernelspec": {
   "display_name": "Python [default]",
   "language": "python",
   "name": "python2"
  },
  "language_info": {
   "codemirror_mode": {
    "name": "ipython",
    "version": 2
   },
   "file_extension": ".py",
   "mimetype": "text/x-python",
   "name": "python",
   "nbconvert_exporter": "python",
   "pygments_lexer": "ipython2",
   "version": "2.7.13"
  }
 },
 "nbformat": 4,
 "nbformat_minor": 1
}
