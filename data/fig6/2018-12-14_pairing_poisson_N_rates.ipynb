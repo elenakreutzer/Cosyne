{
 "cells": [
  {
   "cell_type": "code",
   "execution_count": 37,
   "metadata": {
    "collapsed": true
   },
   "outputs": [],
   "source": [
    "import numpy as np\n",
    "import matplotlib as mpl\n",
    "import matplotlib.pyplot as plt\n",
    "#import functions as fct\n",
    "import pairing_poisson_N as pair\n",
    "#reload(fct)\n",
    "reload(pair)\n",
    "%matplotlib inline"
   ]
  },
  {
   "cell_type": "code",
   "execution_count": 38,
   "metadata": {},
   "outputs": [
    {
     "name": "stdout",
     "output_type": "stream",
     "text": [
      "38.4615384615\n"
     ]
    }
   ],
   "source": [
    "#number of stimulated neurons\n",
    "Ntot=1\n",
    "Nstim=1\n",
    "#time constants\n",
    "taul=0.01\n",
    "taus=0.003\n",
    "fac=(1./((taul-taus)))\n",
    "inteps=fac*(taul-taus)\n",
    "intepsquad=(fac**2)*(taul/2-(2/(1/taul+1/taus))+taus/2)\n",
    "print(intepsquad)\n",
    "dt=0.0005\n",
    "\n",
    "\n",
    "\n",
    "# different input rates\n",
    "low_rate=3.\n",
    "medium_rate=5.\n",
    "high_rate=10.\n",
    "epsilon=0.001\n",
    "\n",
    "#rate of post synaptic stimulation\n",
    "post_rate=20.\n",
    "\n",
    "#different weights (all excitatory)\n",
    "low_weight=0.01\n",
    "medium_weight=0.12\n",
    "high_weight=0.5\n",
    "\n",
    "\n",
    "#learning rate\n",
    "lr=0.001"
   ]
  },
  {
   "cell_type": "code",
   "execution_count": 39,
   "metadata": {
    "collapsed": true
   },
   "outputs": [],
   "source": [
    "parameter={\n",
    "    \"Ntot\":Ntot,\n",
    "    \"Nstim\":Nstim,\n",
    "    \"taul\":taul,\n",
    "    \"taus\":taus,\n",
    "    \"dt\":dt,\n",
    "    \"kernel\":pair.eps,\n",
    "    \"intepsquad\":intepsquad,\n",
    "    \"inteps\":inteps,\n",
    "    \"rate\":low_rate,\n",
    "    \"epsilon\":epsilon,\n",
    "    \"lr\":lr,\n",
    "    \"rho\":pair.sigmoidal,\n",
    "    \"rhoprime\":pair.sigmoidalp,\n",
    "    \"threshold\":15.,\n",
    "    \"slope\":0.3,\n",
    "    \"maxfire\":100.,\n",
    "    \"post_rate\":post_rate,\n",
    "    \"g1\":pair.g1,\n",
    "    \"g2\":pair.g2,\n",
    "    \"f\":pair.fsigmoid,\n",
    "    \"init\":pair.init,\n",
    "    \"pre_learning_time\":1.,\n",
    "    \"learning_time\":10.,\n",
    "    \"interval_length\":0.01,\n",
    "    \"total_time\":11.1,\n",
    "    \"alpha\":1.,\n",
    "    \"learning_rule\":pair.ngradient,\n",
    "    \"percentage\":1, #0 for absolute weight change plot, 1 for relative\n",
    "    \"label\":(\"high EPSP variance\",\"medium EPSP variance\",\"small EPSP variance\"),\n",
    "    \"ylimits\":[98.3,101.7],\n",
    "    \"ofile\":\"2018_06-07_pairing_different_rates_Poisson.svg\"\n",
    "    }"
   ]
  },
  {
   "cell_type": "markdown",
   "metadata": {},
   "source": [
    "Pairing protocol for Nstim synapses excitatory pre/post pairing at different rates and different weights."
   ]
  },
  {
   "cell_type": "code",
   "execution_count": 40,
   "metadata": {},
   "outputs": [
    {
     "name": "stdout",
     "output_type": "stream",
     "text": [
      "0.333333333333\n"
     ]
    }
   ],
   "source": [
    "parameter[\"rate\"]=low_rate\n",
    "parameter[\"inteps\"]=1./parameter[\"rate\"]*inteps\n",
    "print(parameter[\"inteps\"])\n",
    "parameter[\"intepsquad\"]=1./(parameter[\"rate\"]**2)*intepsquad\n",
    "weight={\"unstim\":low_weight*np.ones((Ntot-Nstim,)),\"stim\":low_weight*np.ones((Nstim,))}"
   ]
  },
  {
   "cell_type": "code",
   "execution_count": 41,
   "metadata": {
    "collapsed": true,
    "scrolled": true
   },
   "outputs": [],
   "source": [
    "lweights=np.mean(pair.nlearning(weight,**parameter)[\"weight\"][\"stim\"],axis=1)"
   ]
  },
  {
   "cell_type": "code",
   "execution_count": 42,
   "metadata": {
    "collapsed": true
   },
   "outputs": [],
   "source": [
    "parameter[\"rate\"]=medium_rate\n",
    "parameter[\"inteps\"]=1./parameter[\"rate\"]*inteps\n",
    "parameter[\"intepsquad\"]=1./(parameter[\"rate\"]**2)*intepsquad\n",
    "weight={\"unstim\":low_weight*np.ones((Ntot-Nstim,)),\"stim\":low_weight*np.ones((Nstim,))}"
   ]
  },
  {
   "cell_type": "code",
   "execution_count": 43,
   "metadata": {
    "collapsed": true
   },
   "outputs": [],
   "source": [
    "mweights=np.mean(pair.nlearning(weight,**parameter)[\"weight\"][\"stim\"],axis=1)"
   ]
  },
  {
   "cell_type": "code",
   "execution_count": 44,
   "metadata": {
    "collapsed": true
   },
   "outputs": [],
   "source": [
    "parameter[\"rate\"]=high_rate\n",
    "parameter[\"inteps\"]=1./parameter[\"rate\"]*inteps\n",
    "parameter[\"intepsquad\"]=1./(parameter[\"rate\"]**2)*intepsquad\n",
    "weight={\"unstim\":low_weight*np.ones((Ntot-Nstim,)),\"stim\":low_weight*np.ones((Nstim,))}"
   ]
  },
  {
   "cell_type": "code",
   "execution_count": 45,
   "metadata": {
    "collapsed": true
   },
   "outputs": [],
   "source": [
    "hweights=np.mean(pair.nlearning(weight,**parameter)[\"weight\"][\"stim\"],axis=1)"
   ]
  },
  {
   "cell_type": "code",
   "execution_count": 46,
   "metadata": {
    "collapsed": true
   },
   "outputs": [],
   "source": [
    "weights=np.array((lweights,mweights,hweights))\n"
   ]
  },
  {
   "cell_type": "code",
   "execution_count": 47,
   "metadata": {},
   "outputs": [
    {
     "data": {
      "image/png": "[encoded data removed]",
      "text/plain": [
       "<matplotlib.figure.Figure at 0x6a8cacf8>"
      ]
     },
     "metadata": {},
     "output_type": "display_data"
    }
   ],
   "source": [
    "pair.plotLTP(weights,**parameter)"
   ]
  },
  {
   "cell_type": "code",
   "execution_count": 48,
   "metadata": {
    "collapsed": true
   },
   "outputs": [],
   "source": [
    "parameter[\"ofile\"]=\"2018-09-05_poisson_pairingN_LTD_lw.svg\"\n",
    "parameter[\"rate\"]=medium_rate"
   ]
  },
  {
   "cell_type": "code",
   "execution_count": null,
   "metadata": {
    "collapsed": true
   },
   "outputs": [],
   "source": []
  }
 ],
 "metadata": {
  "kernelspec": {
   "display_name": "Python [default]",
   "language": "python",
   "name": "python2"
  },
  "language_info": {
   "codemirror_mode": {
    "name": "ipython",
    "version": 2
   },
   "file_extension": ".py",
   "mimetype": "text/x-python",
   "name": "python",
   "nbconvert_exporter": "python",
   "pygments_lexer": "ipython2",
   "version": "2.7.13"
  }
 },
 "nbformat": 4,
 "nbformat_minor": 1
}
